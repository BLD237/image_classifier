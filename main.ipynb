{
 "cells": [
  {
   "cell_type": "markdown",
   "id": "871a4414",
   "metadata": {},
   "source": [
    "# importing modules"
   ]
  },
  {
   "cell_type": "code",
   "execution_count": 34,
   "id": "a2b03c9d",
   "metadata": {},
   "outputs": [],
   "source": [
    "import numpy as np\n",
    "from PIL import Image\n",
    "import torch\n",
    "import torch.nn as nn\n",
    "import torch.nn.functional as F\n",
    "import torch.optim as optim\n",
    "import torchvision\n",
    "import torchvision.transforms as transforms\n",
    "from torchvision import datasets\n"
   ]
  },
  {
   "cell_type": "markdown",
   "id": "ac4d02ab",
   "metadata": {},
   "source": [
    "# defining data transformation methods\n"
   ]
  },
  {
   "cell_type": "code",
   "execution_count": 35,
   "id": "5e702f3c",
   "metadata": {},
   "outputs": [],
   "source": [
    "transform = transforms.Compose([    \n",
    "    transforms.ToTensor(),\n",
    "    transforms.Normalize((0.5, 0.5, 0.5), (0.5, 0.5, 0.5))\n",
    "])\n",
    "\n",
    "\n",
    "\n"
   ]
  },
  {
   "cell_type": "markdown",
   "id": "3f1bf17e",
   "metadata": {},
   "source": [
    "# Loading the data"
   ]
  },
  {
   "cell_type": "code",
   "execution_count": 36,
   "id": "50dcb8d6",
   "metadata": {},
   "outputs": [],
   "source": [
    "train_data = torchvision.datasets.CIFAR10(root='./data', train=True, transform=transform, download=True)\n",
    "test_data = torchvision.datasets.CIFAR10(root='./data', train=False, transform=transform, download=True)\n",
    "train_loader = torch.utils.data.DataLoader(train_data, batch_size=32, shuffle=True, num_workers=2)\n",
    "test_loader = torch.utils.data.DataLoader(test_data, batch_size=32, shuffle=True, num_workers=2)"
   ]
  },
  {
   "cell_type": "code",
   "execution_count": 37,
   "id": "6bee038e",
   "metadata": {},
   "outputs": [],
   "source": [
    "image, label = train_data[0]"
   ]
  },
  {
   "cell_type": "code",
   "execution_count": 38,
   "id": "870bb269",
   "metadata": {},
   "outputs": [],
   "source": [
    "class_names = ['plane', 'car', 'bird', 'cat', 'deer', 'dog', 'frog', 'horse', 'ship', 'truck']"
   ]
  },
  {
   "cell_type": "markdown",
   "id": "31ae3414",
   "metadata": {},
   "source": [
    "## Creating my model\n"
   ]
  },
  {
   "cell_type": "code",
   "execution_count": 31,
   "id": "5b19647e",
   "metadata": {},
   "outputs": [],
   "source": [
    "class NeuralNet(nn.Module):\n",
    "    def __init__(self):\n",
    "        super().__init__()\n",
    "        self.conv1 = nn.Conv2d(3, 12, 5)\n",
    "        self.pool = nn.MaxPool2d(2, 2)\n",
    "        self.conv2 = nn.Conv2d(12, 24, 5)\n",
    "        self.fc1 = nn.Linear(24*5*5, 120)\n",
    "        self.fc2 = nn.Linear(120, 84)\n",
    "        self.fc3 = nn.Linear(84, 10)\n",
    "    def forward(self, x):\n",
    "        x = self.pool(F.relu(self.conv1(x)))\n",
    "        x =  self.pool(F.relu(self.conv2(x)))\n",
    "        x = torch.flatten(x, 1)\n",
    "        x = F.relu(self.fc1(x))\n",
    "        x = F.relu(self.fc2(x))\n",
    "        x = self.fc3(x)\n",
    "        return x      \n",
    "    "
   ]
  },
  {
   "cell_type": "markdown",
   "id": "5fa47b33",
   "metadata": {},
   "source": [
    "## defining our model"
   ]
  },
  {
   "cell_type": "code",
   "execution_count": 32,
   "id": "e48b1745",
   "metadata": {},
   "outputs": [],
   "source": [
    "net = NeuralNet()\n",
    "loss_function = nn.CrossEntropyLoss()\n",
    "optimizer = optim.SGD(net.parameters(), lr=0.001, momentum=0.9)"
   ]
  },
  {
   "cell_type": "markdown",
   "id": "b62deda2",
   "metadata": {},
   "source": [
    "# Training model"
   ]
  },
  {
   "cell_type": "code",
   "execution_count": 46,
   "id": "1487ae92",
   "metadata": {},
   "outputs": [
    {
     "name": "stdout",
     "output_type": "stream",
     "text": [
      "Training epoch 0...\n",
      "loss: 0.0002\n",
      "Training epoch 1...\n",
      "loss: 0.0003\n",
      "Training epoch 2...\n",
      "loss: 0.0004\n",
      "Training epoch 3...\n",
      "loss: 0.0002\n",
      "Training epoch 4...\n",
      "loss: 0.0004\n",
      "Training epoch 5...\n",
      "loss: 0.0001\n",
      "Training epoch 6...\n",
      "loss: 0.0005\n",
      "Training epoch 7...\n",
      "loss: 0.0005\n",
      "Training epoch 8...\n",
      "loss: 0.0003\n",
      "Training epoch 9...\n",
      "loss: 0.0003\n",
      "Training epoch 10...\n",
      "loss: 0.0005\n",
      "Training epoch 11...\n",
      "loss: 0.0003\n",
      "Training epoch 12...\n",
      "loss: 0.0003\n",
      "Training epoch 13...\n",
      "loss: 0.0002\n",
      "Training epoch 14...\n",
      "loss: 0.0002\n",
      "Training epoch 15...\n",
      "loss: 0.0001\n",
      "Training epoch 16...\n",
      "loss: 0.0003\n",
      "Training epoch 17...\n",
      "loss: 0.0002\n",
      "Training epoch 18...\n",
      "loss: 0.0002\n",
      "Training epoch 19...\n",
      "loss: 0.0004\n",
      "Training epoch 20...\n",
      "loss: 0.0002\n",
      "Training epoch 21...\n",
      "loss: 0.0001\n",
      "Training epoch 22...\n",
      "loss: 0.0001\n",
      "Training epoch 23...\n",
      "loss: 0.0004\n",
      "Training epoch 24...\n",
      "loss: 0.0002\n",
      "Training epoch 25...\n",
      "loss: 0.0003\n",
      "Training epoch 26...\n",
      "loss: 0.0002\n",
      "Training epoch 27...\n",
      "loss: 0.0002\n",
      "Training epoch 28...\n",
      "loss: 0.0001\n",
      "Training epoch 29...\n",
      "loss: 0.0004\n",
      "Training epoch 30...\n",
      "loss: 0.0001\n",
      "Training epoch 31...\n",
      "loss: 0.0004\n",
      "Training epoch 32...\n",
      "loss: 0.0002\n",
      "Training epoch 33...\n",
      "loss: 0.0002\n",
      "Training epoch 34...\n",
      "loss: 0.0002\n",
      "Training epoch 35...\n",
      "loss: 0.0003\n",
      "Training epoch 36...\n",
      "loss: 0.0002\n",
      "Training epoch 37...\n",
      "loss: 0.0005\n",
      "Training epoch 38...\n",
      "loss: 0.0003\n",
      "Training epoch 39...\n",
      "loss: 0.0003\n",
      "Training epoch 40...\n",
      "loss: 0.0004\n",
      "Training epoch 41...\n",
      "loss: 0.0001\n",
      "Training epoch 42...\n",
      "loss: 0.0002\n",
      "Training epoch 43...\n",
      "loss: 0.0002\n",
      "Training epoch 44...\n",
      "loss: 0.0006\n",
      "Training epoch 45...\n",
      "loss: 0.0004\n",
      "Training epoch 46...\n",
      "loss: 0.0002\n",
      "Training epoch 47...\n",
      "loss: 0.0001\n",
      "Training epoch 48...\n",
      "loss: 0.0001\n",
      "Training epoch 49...\n",
      "loss: 0.0001\n",
      "Training epoch 50...\n",
      "loss: 0.0002\n",
      "Training epoch 51...\n",
      "loss: 0.0002\n",
      "Training epoch 52...\n",
      "loss: 0.0002\n",
      "Training epoch 53...\n",
      "loss: 0.0003\n",
      "Training epoch 54...\n",
      "loss: 0.0001\n",
      "Training epoch 55...\n",
      "loss: 0.0004\n",
      "Training epoch 56...\n",
      "loss: 0.0004\n",
      "Training epoch 57...\n",
      "loss: 0.0002\n",
      "Training epoch 58...\n",
      "loss: 0.0002\n",
      "Training epoch 59...\n",
      "loss: 0.0002\n",
      "Training epoch 60...\n",
      "loss: 0.0005\n",
      "Training epoch 61...\n",
      "loss: 0.0002\n",
      "Training epoch 62...\n",
      "loss: 0.0002\n",
      "Training epoch 63...\n",
      "loss: 0.0001\n",
      "Training epoch 64...\n",
      "loss: 0.0003\n",
      "Training epoch 65...\n",
      "loss: 0.0005\n",
      "Training epoch 66...\n",
      "loss: 0.0001\n",
      "Training epoch 67...\n",
      "loss: 0.0003\n",
      "Training epoch 68...\n",
      "loss: 0.0005\n",
      "Training epoch 69...\n",
      "loss: 0.0001\n",
      "Training epoch 70...\n",
      "loss: 0.0003\n",
      "Training epoch 71...\n",
      "loss: 0.0003\n",
      "Training epoch 72...\n",
      "loss: 0.0006\n",
      "Training epoch 73...\n",
      "loss: 0.0002\n",
      "Training epoch 74...\n",
      "loss: 0.0004\n",
      "Training epoch 75...\n",
      "loss: 0.0001\n",
      "Training epoch 76...\n",
      "loss: 0.0002\n",
      "Training epoch 77...\n",
      "loss: 0.0003\n",
      "Training epoch 78...\n",
      "loss: 0.0001\n",
      "Training epoch 79...\n",
      "loss: 0.0001\n",
      "Training epoch 80...\n",
      "loss: 0.0002\n",
      "Training epoch 81...\n",
      "loss: 0.0001\n",
      "Training epoch 82...\n",
      "loss: 0.0002\n",
      "Training epoch 83...\n",
      "loss: 0.0001\n",
      "Training epoch 84...\n",
      "loss: 0.0003\n",
      "Training epoch 85...\n",
      "loss: 0.0002\n",
      "Training epoch 86...\n",
      "loss: 0.0002\n",
      "Training epoch 87...\n",
      "loss: 0.0003\n",
      "Training epoch 88...\n",
      "loss: 0.0003\n",
      "Training epoch 89...\n",
      "loss: 0.0002\n",
      "Training epoch 90...\n",
      "loss: 0.0006\n",
      "Training epoch 91...\n",
      "loss: 0.0004\n",
      "Training epoch 92...\n",
      "loss: 0.0002\n",
      "Training epoch 93...\n",
      "loss: 0.0003\n",
      "Training epoch 94...\n",
      "loss: 0.0004\n",
      "Training epoch 95...\n",
      "loss: 0.0001\n",
      "Training epoch 96...\n",
      "loss: 0.0002\n",
      "Training epoch 97...\n",
      "loss: 0.0002\n",
      "Training epoch 98...\n",
      "loss: 0.0001\n",
      "Training epoch 99...\n",
      "loss: 0.0006\n"
     ]
    }
   ],
   "source": [
    "for epoch in range(100):\n",
    "    print(f\"Training epoch {epoch}...\")\n",
    "    running_loss = 0.0\n",
    "    for i, data in enumerate(train_loader):\n",
    "        inputs, labels = data\n",
    "        optimizer.zero_grad()\n",
    "        outputs = net(inputs)\n",
    "        loss = loss_function(outputs, labels)\n",
    "        loss.backward()\n",
    "        optimizer.step()\n",
    "        running_loss =+ loss.item()\n",
    "    print(f\"loss: {running_loss /  len(train_loader):.4f}\")\n",
    "        \n",
    "        "
   ]
  },
  {
   "cell_type": "markdown",
   "id": "c14e6046",
   "metadata": {},
   "source": [
    "# Saving and testing \n"
   ]
  },
  {
   "cell_type": "code",
   "execution_count": 47,
   "id": "b77031f9",
   "metadata": {},
   "outputs": [],
   "source": [
    "torch.save(net.state_dict(), 'netv1.pth')"
   ]
  },
  {
   "cell_type": "code",
   "execution_count": 48,
   "id": "9b187976",
   "metadata": {},
   "outputs": [
    {
     "name": "stdout",
     "output_type": "stream",
     "text": [
      "Accuracy: 67.17\n"
     ]
    }
   ],
   "source": [
    "\n",
    "net = NeuralNet()\n",
    "net.load_state_dict(torch.load('netv1.pth'))\n",
    "correct = 0 \n",
    "total = 0\n",
    "net.eval()\n",
    "with torch.no_grad():\n",
    "    for data  in test_loader:\n",
    "        images, labels = data\n",
    "        outputs = net(images)\n",
    "        _, predicted = torch.max(outputs, 1)\n",
    "        total += labels.size(0)\n",
    "        correct += (predicted ==  labels).sum().item()\n",
    "accuracy = 100 * correct / total\n",
    "print(f\"Accuracy: {accuracy}\")\n",
    "        \n",
    "\n"
   ]
  },
  {
   "cell_type": "markdown",
   "id": "2bf038eb",
   "metadata": {},
   "source": [
    "# Testing 2"
   ]
  },
  {
   "cell_type": "code",
   "execution_count": 49,
   "id": "31a5016a",
   "metadata": {},
   "outputs": [
    {
     "name": "stdout",
     "output_type": "stream",
     "text": [
      "predicted dog\n",
      "predicted dog\n",
      "predicted car\n",
      "predicted ship\n",
      "predicted car\n",
      "predicted bird\n",
      "predicted cat\n",
      "predicted deer\n",
      "predicted frog\n",
      "predicted horse\n",
      "predicted plane\n",
      "predicted plane\n",
      "predicted truck\n",
      "predicted truck\n"
     ]
    }
   ],
   "source": [
    "new_transform =  transforms.Compose([\n",
    "    transforms.Resize((32, 32)),\n",
    "    transforms.ToTensor(),\n",
    "    transforms.Normalize((0.5, 0.5, 0.5), (0.5, 0.5, 0.5))\n",
    "])\n",
    "def load_image(image_path):\n",
    "    image = Image.open(image_path)\n",
    "    image = new_transform(image)\n",
    "    image = image.unsqueeze(0)\n",
    "    return image\n",
    "image_path = ['test/dog.jpg', 'test/dog.jpg', 'test/car.jpg', 'test/ship.jpeg', 'test/truck.png', 'test/bird.png', 'test/cat.png', 'test/deer.png', 'test/frog.png', 'test/horse.png', 'test/plane.png', 'test/plane1.png', 'test/truck1.png','test/truck3.png',   ]\n",
    "images = [load_image(img) for img in image_path]\n",
    "net.eval()\n",
    "with torch.no_grad():\n",
    "    for image in images:\n",
    "        output = net(image)\n",
    "        _, predicted = torch.max(output, 1)\n",
    "        print(f\"predicted {class_names[predicted.item()]}\")\n",
    "        "
   ]
  }
 ],
 "metadata": {
  "kernelspec": {
   "display_name": "Python 3",
   "language": "python",
   "name": "python3"
  },
  "language_info": {
   "codemirror_mode": {
    "name": "ipython",
    "version": 3
   },
   "file_extension": ".py",
   "mimetype": "text/x-python",
   "name": "python",
   "nbconvert_exporter": "python",
   "pygments_lexer": "ipython3",
   "version": "3.12.10"
  }
 },
 "nbformat": 4,
 "nbformat_minor": 5
}
