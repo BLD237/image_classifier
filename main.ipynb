{
 "cells": [
  {
   "cell_type": "code",
   "execution_count": 15,
   "id": "a2b03c9d",
   "metadata": {},
   "outputs": [],
   "source": [
    "import numpy as np\n",
    "from PIL import Image\n",
    "import torch\n",
    "import torch.nn as nn\n",
    "import torch.nn.functional as F\n",
    "import torch.optim as optim\n",
    "import torchvision\n",
    "import torchvision.transforms as transforms\n"
   ]
  },
  {
   "cell_type": "code",
   "execution_count": 8,
   "id": "5e702f3c",
   "metadata": {},
   "outputs": [],
   "source": [
    "transform = transforms.Compose([\n",
    "    transforms.ToTensor(),\n",
    "    transforms.Normalize((0.5, 0.5, 0.5), (0.5, 0.5, 0.5))\n",
    "])"
   ]
  },
  {
   "cell_type": "code",
   "execution_count": 35,
   "id": "50dcb8d6",
   "metadata": {},
   "outputs": [],
   "source": [
    "train_data = torchvision.datasets.CIFAR10(root='./data', train=True, transform=transform, download=True)\n",
    "test_data = torchvision.datasets.CIFAR10(root='./data', train=False, transform=transform, download=True)\n",
    "train_loader = torch.utils.data.DataLoader(train_data, batch_size=32, shuffle=True, num_workers=2)\n",
    "test_loader = torch.utils.data.DataLoader(test_data, batch_size=32, shuffle=True, num_workers=2)"
   ]
  },
  {
   "cell_type": "code",
   "execution_count": null,
   "id": "6bee038e",
   "metadata": {},
   "outputs": [],
   "source": [
    "image, label = train_data[0]"
   ]
  },
  {
   "cell_type": "code",
   "execution_count": 13,
   "id": "870bb269",
   "metadata": {},
   "outputs": [],
   "source": [
    "class_names = ['plane', 'car', 'bird', 'cat', 'deer', 'dog', 'frog', 'horse', 'ship', 'truck']"
   ]
  },
  {
   "cell_type": "code",
   "execution_count": 29,
   "id": "5b19647e",
   "metadata": {},
   "outputs": [],
   "source": [
    "class NeuralNet(nn.Module):\n",
    "    def __init__(self):\n",
    "        super().__init__()\n",
    "        self.conv1 = nn.Conv2d(3, 12, 5)\n",
    "        self.pool = nn.MaxPool2d(2, 2)\n",
    "        self.conv2 = nn.Conv2d(12, 24, 5)\n",
    "        self.fc1 = nn.Linear(24*5*5, 120)\n",
    "        self.fc2 = nn.Linear(120, 84)\n",
    "        self.fc3 = nn.Linear(84, 10)\n",
    "    def forward(self, x):\n",
    "        x = self.pool(F.relu(self.conv1(x)))\n",
    "        x =  self.pool(F.relu(self.conv2(x)))\n",
    "        x = torch.flatten(x, 1)\n",
    "        x = F.relu(self.fc1(x))\n",
    "        x = F.relu(self.fc2(x))\n",
    "        x = self.fc3(x)\n",
    "        return x      \n",
    "    "
   ]
  },
  {
   "cell_type": "code",
   "execution_count": 36,
   "id": "e48b1745",
   "metadata": {},
   "outputs": [],
   "source": [
    "net = NeuralNet()\n",
    "loss_function = nn.CrossEntropyLoss()\n",
    "optimizer = optim.SGD(net.parameters(), lr=0.001, momentum=0.9)"
   ]
  },
  {
   "cell_type": "code",
   "execution_count": 37,
   "id": "1487ae92",
   "metadata": {},
   "outputs": [
    {
     "name": "stdout",
     "output_type": "stream",
     "text": [
      "Training epoch 0...\n",
      "loss: 0.0015\n",
      "Training epoch 1...\n",
      "loss: 0.0011\n",
      "Training epoch 2...\n",
      "loss: 0.0011\n",
      "Training epoch 3...\n",
      "loss: 0.0007\n",
      "Training epoch 4...\n",
      "loss: 0.0008\n",
      "Training epoch 5...\n",
      "loss: 0.0007\n",
      "Training epoch 6...\n",
      "loss: 0.0005\n",
      "Training epoch 7...\n",
      "loss: 0.0007\n",
      "Training epoch 8...\n",
      "loss: 0.0007\n",
      "Training epoch 9...\n",
      "loss: 0.0005\n",
      "Training epoch 10...\n",
      "loss: 0.0006\n",
      "Training epoch 11...\n",
      "loss: 0.0004\n",
      "Training epoch 12...\n",
      "loss: 0.0003\n",
      "Training epoch 13...\n",
      "loss: 0.0005\n",
      "Training epoch 14...\n",
      "loss: 0.0007\n",
      "Training epoch 15...\n",
      "loss: 0.0006\n",
      "Training epoch 16...\n",
      "loss: 0.0004\n",
      "Training epoch 17...\n",
      "loss: 0.0006\n",
      "Training epoch 18...\n",
      "loss: 0.0004\n",
      "Training epoch 19...\n",
      "loss: 0.0007\n",
      "Training epoch 20...\n",
      "loss: 0.0006\n",
      "Training epoch 21...\n",
      "loss: 0.0005\n",
      "Training epoch 22...\n",
      "loss: 0.0004\n",
      "Training epoch 23...\n",
      "loss: 0.0004\n",
      "Training epoch 24...\n",
      "loss: 0.0002\n",
      "Training epoch 25...\n",
      "loss: 0.0004\n",
      "Training epoch 26...\n",
      "loss: 0.0004\n",
      "Training epoch 27...\n",
      "loss: 0.0002\n",
      "Training epoch 28...\n",
      "loss: 0.0001\n",
      "Training epoch 29...\n",
      "loss: 0.0003\n"
     ]
    }
   ],
   "source": [
    "for epoch in range(30):\n",
    "    print(f\"Training epoch {epoch}...\")\n",
    "    running_loss = 0.0\n",
    "    for i, data in enumerate(train_loader):\n",
    "        inputs, labels = data\n",
    "        optimizer.zero_grad()\n",
    "        outputs = net(inputs)\n",
    "        loss = loss_function(outputs, labels)\n",
    "        loss.backward()\n",
    "        optimizer.step()\n",
    "        running_loss =+ loss.item()\n",
    "    print(f\"loss: {running_loss /  len(train_loader):.4f}\")\n",
    "        \n",
    "        "
   ]
  },
  {
   "cell_type": "code",
   "execution_count": 40,
   "id": "9b187976",
   "metadata": {},
   "outputs": [
    {
     "name": "stdout",
     "output_type": "stream",
     "text": [
      "Accuracy: 67.17\n"
     ]
    }
   ],
   "source": [
    "torch.save(net.state_dict(), 'net.pth')\n",
    "net = NeuralNet()\n",
    "net.load_state_dict(torch.load('net.pth'))\n",
    "correct = 0 \n",
    "total = 0\n",
    "net.eval()\n",
    "with torch.no_grad():\n",
    "    for data  in test_loader:\n",
    "        images, labels = data\n",
    "        outputs = net(images)\n",
    "        _, predicted = torch.max(outputs, 1)\n",
    "        total += labels.size(0)\n",
    "        correct += (predicted ==  labels).sum().item()\n",
    "accuracy = 100 * correct / total\n",
    "print(f\"Accuracy: {accuracy}\")\n",
    "        \n",
    "\n"
   ]
  },
  {
   "cell_type": "code",
   "execution_count": 56,
   "id": "31a5016a",
   "metadata": {},
   "outputs": [
    {
     "name": "stdout",
     "output_type": "stream",
     "text": [
      "predicted dog\n",
      "predicted dog\n",
      "predicted car\n",
      "predicted ship\n",
      "predicted car\n",
      "predicted bird\n"
     ]
    }
   ],
   "source": [
    "new_transform =  transforms.Compose([\n",
    "    transforms.Resize((32, 32)),\n",
    "    transforms.ToTensor(),\n",
    "    transforms.Normalize((0.5, 0.5, 0.5), (0.5, 0.5, 0.5))\n",
    "])\n",
    "def load_image(image_path):\n",
    "    image = Image.open(image_path)\n",
    "    image = new_transform(image)\n",
    "    image = image.unsqueeze(0)\n",
    "    return image\n",
    "image_path = ['test/dog.jpg', 'test/dog.jpg', 'test/car.jpg', 'test/ship.jpeg', 'test/truck.png', 'test/bird.png' ]\n",
    "images = [load_image(img) for img in image_path]\n",
    "net.eval()\n",
    "with torch.no_grad():\n",
    "    for image in images:\n",
    "        output = net(image)\n",
    "        _, predicted = torch.max(output, 1)\n",
    "        print(f\"predicted {class_names[predicted.item()]}\")\n",
    "        "
   ]
  }
 ],
 "metadata": {
  "kernelspec": {
   "display_name": "Python 3",
   "language": "python",
   "name": "python3"
  },
  "language_info": {
   "codemirror_mode": {
    "name": "ipython",
    "version": 3
   },
   "file_extension": ".py",
   "mimetype": "text/x-python",
   "name": "python",
   "nbconvert_exporter": "python",
   "pygments_lexer": "ipython3",
   "version": "3.12.10"
  }
 },
 "nbformat": 4,
 "nbformat_minor": 5
}
